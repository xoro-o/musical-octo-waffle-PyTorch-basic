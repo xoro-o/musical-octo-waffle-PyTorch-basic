{
  "nbformat": 4,
  "nbformat_minor": 0,
  "metadata": {
    "colab": {
      "name": "Some_Pytorch_stuff",
      "provenance": [],
      "authorship_tag": "ABX9TyPTMLCNw9Di6YFM33hXWTUJ",
      "include_colab_link": true
    },
    "kernelspec": {
      "name": "python3",
      "display_name": "Python 3"
    },
    "language_info": {
      "name": "python"
    },
    "accelerator": "GPU",
    "gpuClass": "standard"
  },
  "cells": [
    {
      "cell_type": "markdown",
      "metadata": {
        "id": "view-in-github",
        "colab_type": "text"
      },
      "source": [
        "<a href=\"https://colab.research.google.com/github/xoro-o/musical-octo-waffle-PyTorch-basic/blob/main/Some_Pytorch_stuff.ipynb\" target=\"_parent\"><img src=\"https://colab.research.google.com/assets/colab-badge.svg\" alt=\"Open In Colab\"/></a>"
      ]
    },
    {
      "cell_type": "code",
      "execution_count": 2,
      "metadata": {
        "id": "aYwQ21DJ2trx"
      },
      "outputs": [],
      "source": [
        "import torch"
      ]
    },
    {
      "cell_type": "code",
      "source": [
        "device = \"cuda\" if torch.cuda.is_available() else \"cpu\""
      ],
      "metadata": {
        "id": "WjVSPGZh20iD"
      },
      "execution_count": 2,
      "outputs": []
    },
    {
      "cell_type": "code",
      "source": [
        "my_tensor = torch.tensor([[1, 2, 3],[4, 5, 6]],device = device,dtype=torch.float32,requires_grad = True)"
      ],
      "metadata": {
        "id": "ky3z6l5b2_l4"
      },
      "execution_count": 3,
      "outputs": []
    },
    {
      "cell_type": "code",
      "source": [
        "print(my_tensor)"
      ],
      "metadata": {
        "colab": {
          "base_uri": "https://localhost:8080/"
        },
        "id": "HeJicHgT3R1R",
        "outputId": "28e35a09-2520-4566-d806-4e000dcbfeed"
      },
      "execution_count": 4,
      "outputs": [
        {
          "output_type": "stream",
          "name": "stdout",
          "text": [
            "tensor([[1., 2., 3.],\n",
            "        [4., 5., 6.]], device='cuda:0', requires_grad=True)\n"
          ]
        }
      ]
    },
    {
      "cell_type": "code",
      "source": [
        "print(my_tensor.shape)"
      ],
      "metadata": {
        "colab": {
          "base_uri": "https://localhost:8080/"
        },
        "id": "nXY5AD9J3YCy",
        "outputId": "a0043949-3271-41b0-dd97-dcc6f8d10579"
      },
      "execution_count": 8,
      "outputs": [
        {
          "output_type": "stream",
          "name": "stdout",
          "text": [
            "torch.Size([2, 3])\n"
          ]
        }
      ]
    },
    {
      "cell_type": "code",
      "source": [
        "# Some common initialization methods : \n",
        "t = torch.empty((3,3))\n",
        "print(t)\n",
        "t = torch.ones((3,3))\n",
        "print(t)\n",
        "t = torch.rand((3,3))\n",
        "t = torch.eye(3,3)\n",
        "print(t)\n",
        "t = torch.arange(start=1, end = 10,step = 1)\n",
        "print(t)\n",
        "t = torch.linspace(start = 1, end = 10, steps = 20)\n",
        "t\n",
        "t = torch.empty(size = (1,5)).uniform_(0,1) # [from,to)\n",
        "t\n",
        "t = torch.empty(size = (1,5)).normal_(1,1) # (mean,std)\n",
        "t\n",
        "t = torch.diag(torch.ones(3))\n",
        "t"
      ],
      "metadata": {
        "colab": {
          "base_uri": "https://localhost:8080/"
        },
        "id": "QTAj_OYA30c7",
        "outputId": "d10cd4d6-dd2d-44a3-8271-456cd4d6da22"
      },
      "execution_count": 27,
      "outputs": [
        {
          "output_type": "stream",
          "name": "stdout",
          "text": [
            "tensor([[-3.2746e-07,  0.0000e+00,  1.8680e+00],\n",
            "        [ 1.8864e+00,  6.1925e-01,  0.0000e+00],\n",
            "        [ 0.0000e+00,  0.0000e+00,  1.0000e+00]])\n",
            "tensor([[1., 1., 1.],\n",
            "        [1., 1., 1.],\n",
            "        [1., 1., 1.]])\n",
            "tensor([[1., 0., 0.],\n",
            "        [0., 1., 0.],\n",
            "        [0., 0., 1.]])\n",
            "tensor([1, 2, 3, 4, 5, 6, 7, 8, 9])\n"
          ]
        },
        {
          "output_type": "execute_result",
          "data": {
            "text/plain": [
              "tensor([[1., 0., 0.],\n",
              "        [0., 1., 0.],\n",
              "        [0., 0., 1.]])"
            ]
          },
          "metadata": {},
          "execution_count": 27
        }
      ]
    },
    {
      "cell_type": "code",
      "source": [
        "# initialization and conversion of tensors to other types\n",
        "tensor = torch.tensor([[1,0,1],[1,1,1]])\n",
        "tensor.bool()\n",
        "print(tensor.short().dtype) #int16\n",
        "tensor.long().dtype #int 64\n",
        "tensor.float().dtype #float32\n",
        "tensor.double().dtype #float64"
      ],
      "metadata": {
        "colab": {
          "base_uri": "https://localhost:8080/"
        },
        "id": "vFL4YwSD4NSI",
        "outputId": "50aa89cf-d4cf-4b20-81f1-aa1fb9554743"
      },
      "execution_count": 41,
      "outputs": [
        {
          "output_type": "stream",
          "name": "stdout",
          "text": [
            "torch.int16\n"
          ]
        },
        {
          "output_type": "execute_result",
          "data": {
            "text/plain": [
              "torch.float64"
            ]
          },
          "metadata": {},
          "execution_count": 41
        }
      ]
    },
    {
      "cell_type": "code",
      "source": [
        "# array to tensor conversions\n",
        "import numpy as np\n",
        "np_a = np.zeros((5,6))\n",
        "t  = torch.from_numpy(np_a)\n",
        "print(t)\n",
        "np_a = t.numpy()\n",
        "np_a"
      ],
      "metadata": {
        "colab": {
          "base_uri": "https://localhost:8080/"
        },
        "id": "qXBc4HRXDIWJ",
        "outputId": "e8ed960b-f91c-4215-8dc7-7eeb27af4a91"
      },
      "execution_count": 45,
      "outputs": [
        {
          "output_type": "stream",
          "name": "stdout",
          "text": [
            "tensor([[False, False, False, False, False, False],\n",
            "        [False, False, False, False, False, False],\n",
            "        [False, False, False, False, False, False],\n",
            "        [False, False, False, False, False, False],\n",
            "        [False, False, False, False, False, False]])\n"
          ]
        },
        {
          "output_type": "execute_result",
          "data": {
            "text/plain": [
              "array([[False, False, False, False, False, False],\n",
              "       [False, False, False, False, False, False],\n",
              "       [False, False, False, False, False, False],\n",
              "       [False, False, False, False, False, False],\n",
              "       [False, False, False, False, False, False]])"
            ]
          },
          "metadata": {},
          "execution_count": 45
        }
      ]
    },
    {
      "cell_type": "code",
      "source": [
        "# Tensor math & Comparison Operations\n",
        "x = torch.tensor([7,5,4])\n",
        "y = torch.tensor([3,5,6])\n",
        "\n",
        "# addition\n",
        "z1 = torch.empty((3))\n",
        "torch.add(x,y,out=z1)\n",
        "z = x + y #type operator overloading\n",
        "z.shape\n",
        "# subtraction same for addition\n",
        "z = torch.true_divide(x,y) #if y is int global broadcasting will take place\n",
        "\n",
        "# inplace operations\n",
        "t = torch.zeros(3)\n",
        "t.add_(x) # operation followed by _ is an inplace optr generally t+=x is inplace , t=t+x is not as said\n",
        "\n",
        "# exponentiation\n",
        "z = x.pow(2)\n",
        "z = x**2\n",
        "\n",
        "# Simple comparsion\n",
        "z > 0\n",
        "z < 0\n",
        "\n",
        "# matrix multiplication\n",
        "x1 = torch.rand((2,5))\n",
        "x2 = torch.rand((5,3))\n",
        "x3 = torch.mm(x1,x2) # 2x3\n",
        "x3 = x1.mm(x2)\n",
        "\n",
        "\n",
        "# matrix exponentiation\n",
        "mat = torch.rand(5,5) # needs to be square \n",
        "print(mat)\n",
        "mat.matrix_power(2)\n",
        "mat\n",
        "\n",
        "# element wise multiply\n",
        "z = x*y\n",
        "print(x)\n",
        "print(y)\n",
        "z\n",
        "\n",
        "# dot product\n",
        "z2 = torch.dot(x,y)\n",
        "z2\n",
        "# batch matrix multiplication\n",
        "batch = 5\n",
        "m = 10\n",
        "n = 20\n",
        "p = 30\n",
        "t1 = torch.rand((batch,m,n))\n",
        "t2 = torch.rand((batch,n ,p))\n",
        "out = torch.bmm(t1,t2) # shape will be (batch,m,p)\n",
        "out.shape"
      ],
      "metadata": {
        "colab": {
          "base_uri": "https://localhost:8080/"
        },
        "id": "7jotvWJFEPSO",
        "outputId": "ab796b46-6bd5-4c04-aadc-81c1c2a1dbfa"
      },
      "execution_count": 63,
      "outputs": [
        {
          "output_type": "stream",
          "name": "stdout",
          "text": [
            "tensor([[0.9776, 0.8389, 0.6546, 0.7308, 0.0448],\n",
            "        [0.6820, 0.9200, 0.8000, 0.2399, 0.1179],\n",
            "        [0.0969, 0.1191, 0.4472, 0.4438, 0.4782],\n",
            "        [0.8624, 0.5881, 0.7983, 0.7307, 0.9529],\n",
            "        [0.1207, 0.3774, 0.7712, 0.7556, 0.8308]])\n",
            "tensor([7, 5, 4])\n",
            "tensor([3, 5, 6])\n"
          ]
        },
        {
          "output_type": "execute_result",
          "data": {
            "text/plain": [
              "torch.Size([5, 10, 30])"
            ]
          },
          "metadata": {},
          "execution_count": 63
        }
      ]
    },
    {
      "cell_type": "code",
      "source": [
        "# broadcasting \n",
        "x1 = torch.rand((5,5))\n",
        "x2 = torch.rand((1,5))\n",
        "x1 ** x2"
      ],
      "metadata": {
        "colab": {
          "base_uri": "https://localhost:8080/"
        },
        "id": "DYsCxoyhFBWT",
        "outputId": "79c18e61-a03e-4132-e9ba-64b2c400a9b3"
      },
      "execution_count": 64,
      "outputs": [
        {
          "output_type": "execute_result",
          "data": {
            "text/plain": [
              "tensor([[0.8360, 0.1157, 0.9439, 0.5265, 0.7440],\n",
              "        [0.7611, 0.0452, 0.9377, 0.2298, 0.9049],\n",
              "        [0.4619, 0.7090, 0.9963, 0.6345, 0.8014],\n",
              "        [0.4708, 0.2727, 0.9668, 0.8729, 0.7178],\n",
              "        [0.2957, 0.8783, 0.9585, 0.8174, 0.6329]])"
            ]
          },
          "metadata": {},
          "execution_count": 64
        }
      ]
    },
    {
      "cell_type": "code",
      "source": [
        "# other useful tensor operations\n",
        "sum_x = torch.sum(x,dim=0)\n",
        "values,indices = torch.max(x,dim=0)   # here in all the suitable following block operations we can use operation like, x.max(dim=_) or say x.min(dim=_)\n",
        "values,indices = torch.min(x,dim=0)\n",
        "indices = torch.argmax(x,dim=0) # returns indices\n",
        "abs_x = torch.abs(x)\n",
        "z = torch.argmin(x,dim=0)\n",
        "mean_x = torch.mean(x.float(),dim=0) # needs to be float\n",
        "z = torch.eq(x,y)\n",
        "sorted_y, indices = torch.sort(y,dim=0)\n",
        "z = torch.clamp(x,min=0,max=5)\n",
        "\n",
        "\n",
        "q = torch.tensor([1,0,1,1,1],dtype=torch.bool)\n",
        "x3 = torch.all(q)\n",
        "print(x3)\n",
        "x3 = torch.any(q)\n",
        "x3 \n"
      ],
      "metadata": {
        "colab": {
          "base_uri": "https://localhost:8080/"
        },
        "id": "P85srj7VKtf8",
        "outputId": "048852ad-e8ea-468e-c1db-5b027a9adb8e"
      },
      "execution_count": 76,
      "outputs": [
        {
          "output_type": "stream",
          "name": "stdout",
          "text": [
            "tensor(True)\n"
          ]
        },
        {
          "output_type": "execute_result",
          "data": {
            "text/plain": [
              "tensor(True)"
            ]
          },
          "metadata": {},
          "execution_count": 76
        }
      ]
    },
    {
      "cell_type": "code",
      "source": [
        "# Tensor indexing\n",
        "x = torch.arange(10)\n",
        "print(x)\n",
        "ind = [3,5,8]\n",
        "print(x[ind])\n",
        "\n",
        "x = torch.rand((3,5))\n",
        "print(x)\n",
        "row = torch.tensor([1,0])\n",
        "col = torch.tensor([2,3])\n",
        "print(x[row,col])"
      ],
      "metadata": {
        "colab": {
          "base_uri": "https://localhost:8080/"
        },
        "id": "-XxTl6-bLVs3",
        "outputId": "8cb38d05-2703-4aa9-d886-f340579b22ac"
      },
      "execution_count": 8,
      "outputs": [
        {
          "output_type": "stream",
          "name": "stdout",
          "text": [
            "tensor([0, 1, 2, 3, 4, 5, 6, 7, 8, 9])\n",
            "tensor([3, 5, 8])\n",
            "tensor([[0.7459, 0.2916, 0.4127, 0.5286, 0.1817],\n",
            "        [0.1117, 0.3515, 0.4262, 0.5257, 0.5273],\n",
            "        [0.2461, 0.3854, 0.7650, 0.0565, 0.6414]])\n",
            "tensor([0.4262, 0.5286])\n"
          ]
        }
      ]
    },
    {
      "cell_type": "code",
      "source": [
        "# advanced indexing\n",
        "x = torch.arange(10)\n",
        "print(x[(x<2) | (x>8)]) # | is OR operation\n",
        "print(x[(x<6) & (x>4)]) \n",
        "print(x[x.remainder(2) == 1])"
      ],
      "metadata": {
        "colab": {
          "base_uri": "https://localhost:8080/"
        },
        "id": "pcko5CDsPKZv",
        "outputId": "84418ac0-b225-417d-e4b7-f93463fb67f0"
      },
      "execution_count": 12,
      "outputs": [
        {
          "output_type": "stream",
          "name": "stdout",
          "text": [
            "tensor([0, 1, 9])\n",
            "tensor([5])\n",
            "tensor([1, 3, 5, 7, 9])\n"
          ]
        }
      ]
    },
    {
      "cell_type": "code",
      "source": [
        "# useful operations \n",
        "print(torch.where(x>2,x,x*0)) # torch.where(condition,apply if true,apply if false)\n",
        "print(torch.tensor([1,1,2,2,4,5,6,8,8]).unique())\n",
        "print(torch.tensor([[1,2,3],[4,5,6]]).ndimension())\n",
        "print(torch.tensor([[1,2,3],[4,5,6]]).numel())"
      ],
      "metadata": {
        "colab": {
          "base_uri": "https://localhost:8080/"
        },
        "id": "RvrNg1QFRlUm",
        "outputId": "64c3141e-b4fa-47a4-a16c-307df9a69ea5"
      },
      "execution_count": 18,
      "outputs": [
        {
          "output_type": "stream",
          "name": "stdout",
          "text": [
            "tensor([0, 0, 0, 3, 4, 5, 6, 7, 8, 9])\n",
            "tensor([1, 2, 4, 5, 6, 8])\n",
            "2\n",
            "6\n"
          ]
        }
      ]
    },
    {
      "cell_type": "code",
      "source": [
        "# Tensor Reshaping \n",
        "\n",
        "x  = torch.arange(9)\n",
        "x_3x3 = x.view(3,3)\n",
        "x_3x3 = x.reshape(3,3)\n",
        "print(x_3x3)"
      ],
      "metadata": {
        "colab": {
          "base_uri": "https://localhost:8080/"
        },
        "id": "pupah5EySAZd",
        "outputId": "dd423cb3-f9da-4928-a7ff-d1eb5df32e59"
      },
      "execution_count": 22,
      "outputs": [
        {
          "output_type": "stream",
          "name": "stdout",
          "text": [
            "tensor([[0, 1, 2],\n",
            "        [3, 4, 5],\n",
            "        [6, 7, 8]])\n"
          ]
        }
      ]
    },
    {
      "cell_type": "code",
      "source": [
        "y = x_3x3.t() # transpose\n",
        "print(y)"
      ],
      "metadata": {
        "colab": {
          "base_uri": "https://localhost:8080/"
        },
        "id": "0E_ny3l6ViOy",
        "outputId": "0aa5cb36-405d-46a7-8874-39975f6a51ac"
      },
      "execution_count": 21,
      "outputs": [
        {
          "output_type": "stream",
          "name": "stdout",
          "text": [
            "tensor([[0, 3, 6],\n",
            "        [1, 4, 7],\n",
            "        [2, 5, 8]])\n"
          ]
        }
      ]
    },
    {
      "cell_type": "code",
      "source": [
        "x1 = torch.rand(2,5)\n",
        "x2 = torch.rand(2,5)\n",
        "x3 = torch.cat((x1,x2),dim=0)\n",
        "print(x3.shape)\n",
        "print(torch.cat((x1,x2),dim=1).shape)"
      ],
      "metadata": {
        "colab": {
          "base_uri": "https://localhost:8080/"
        },
        "id": "0pcLI960VvlB",
        "outputId": "04649a1a-25c0-44e8-aa9b-c4589cb6ba58"
      },
      "execution_count": 26,
      "outputs": [
        {
          "output_type": "stream",
          "name": "stdout",
          "text": [
            "torch.Size([4, 5])\n",
            "torch.Size([2, 10])\n"
          ]
        }
      ]
    },
    {
      "cell_type": "code",
      "source": [
        "z = x1.reshape(-1)\n",
        "print(z.shape)\n",
        "batch = 64\n",
        "t = torch.rand((batch,2,5))\n",
        "z1 = t.reshape((batch,-1))\n",
        "print(z1.shape)\n",
        "# now say we want to interchange dimension say, (batch,2,5) to (batch,5,2) so,\n",
        "# z2 = torch.permute(t,(0,2,1)) or\n",
        "z2 = t.permute(0,2,1)\n",
        "print(z2.shape)\n",
        "\n",
        "\n",
        "# to add new dimension\n",
        "x = torch.arange(10)\n",
        "print(x.unsqueeze(1).unsqueeze(1).unsqueeze(0).shape)\n",
        "print(x.unsqueeze(1).unsqueeze(0).shape)\n",
        "print(x.unsqueeze(0).shape)"
      ],
      "metadata": {
        "colab": {
          "base_uri": "https://localhost:8080/"
        },
        "id": "OaBZyrUaV_XA",
        "outputId": "6c8042c7-9346-4967-9e3e-1158786185a2"
      },
      "execution_count": 40,
      "outputs": [
        {
          "output_type": "stream",
          "name": "stdout",
          "text": [
            "torch.Size([10])\n",
            "torch.Size([64, 10])\n",
            "torch.Size([64, 5, 2])\n",
            "torch.Size([1, 10, 1, 1])\n",
            "torch.Size([1, 10, 1])\n",
            "torch.Size([1, 10])\n"
          ]
        }
      ]
    },
    {
      "cell_type": "code",
      "source": [
        "# to squeeze : \n",
        "z = x.unsqueeze(1).unsqueeze(1).unsqueeze(0)\n",
        "print(z.squeeze(0).squeeze(1).squeeze(1).shape)"
      ],
      "metadata": {
        "colab": {
          "base_uri": "https://localhost:8080/"
        },
        "id": "ObpaHLIRWNWq",
        "outputId": "f3051a84-87e8-49a2-a97b-257b05c6176d"
      },
      "execution_count": 49,
      "outputs": [
        {
          "output_type": "stream",
          "name": "stdout",
          "text": [
            "torch.Size([10])\n"
          ]
        }
      ]
    },
    {
      "cell_type": "code",
      "source": [
        ""
      ],
      "metadata": {
        "id": "vUBX24HKYH7F"
      },
      "execution_count": null,
      "outputs": []
    }
  ]
}